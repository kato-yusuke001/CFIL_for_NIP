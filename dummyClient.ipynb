{
 "cells": [
  {
   "cell_type": "code",
   "execution_count": 1,
   "id": "b745748b",
   "metadata": {},
   "outputs": [
    {
     "name": "stdout",
     "output_type": "stream",
     "text": [
      "flask root:http://10.178.64.66:5000/\n"
     ]
    }
   ],
   "source": [
    "import os\n",
    "import time\n",
    "from logger import setup_logger\n",
    "import requests\n",
    "import numpy as np\n",
    "\n",
    "# ロガー設定\n",
    "logging = setup_logger(\"dummyClient\")\n",
    "\n",
    "def log_meesage(message):\n",
    "    print(message)\n",
    "    logging.info(message)\n",
    "\n",
    "def log_error(message):\n",
    "    print(\"error: {}\".format(message))\n",
    "    logging.error(message)\n",
    "\n",
    "\n",
    "# HOST = \"192.168.0.3\" #津の設定\n",
    "HOST = \"10.178.64.66\" #debug\n",
    "PORT = 5000\n",
    "\n",
    "PROXY = \"\"\n",
    "\n",
    "\n",
    "# Flask設定\n",
    "flask_root = \"http://\" + HOST + \":\" + str(PORT) + \"/\"\n",
    "\n",
    "log_meesage(\"flask root:\" + flask_root)\n",
    "\n",
    "def log_meesage(message):\n",
    "    print(message)\n",
    "    logging.info(message)\n",
    "\n",
    "def log_error(message):\n",
    "    print(\"error: {}\".format(message))\n",
    "    logging.error(message)\n",
    "\n",
    "def request_post(_act=\"\", _data=\"\", _value=None):\n",
    "    act = _act\n",
    "    try:\n",
    "        if(_value is not None):\n",
    "            prompt = {_data:str(_value)}\n",
    "        else:\n",
    "            prompt = {\"\":None,}\n",
    "        # print(act, prompt)\n",
    "        res = requests.post(url=flask_root+act, data=prompt, proxies={\"http\":PROXY})\n",
    "        # log_meesage(\"Action Request: {} & {}, Response: {}\".format(act, prompt, res))\n",
    "        return res\n",
    "    \n",
    "    except Exception as e: #接続エラー時。（サーバー側との接続が出来ないときなど）\n",
    "        log_error(\"Error in request_post: {}\".format(e))\n",
    "\n",
    "def request_posts(_act=\"\", _data=\"\", _value=None):\n",
    "    act = _act\n",
    "    try:\n",
    "        if(_value is not None):\n",
    "            prompt = {}\n",
    "            for d, v in zip(_data, _value):\n",
    "                prompt[d] = str(v)\n",
    "            # prompt = {_data:str(_value)}\n",
    "        else:\n",
    "            prompt = {\"\":None,}\n",
    "        # print(act, prompt)\n",
    "        res = requests.post(url=flask_root+act, data=prompt, proxies={\"http\":PROXY})\n",
    "        # log_meesage(\"Action Request: {} & {}, Response: {}\".format(act, prompt, res))\n",
    "        return res\n",
    "    \n",
    "    except Exception as e: #接続エラー時。（サーバー側との接続が出来ないときなど）\n",
    "        log_error(\"Error in request_post: {}\".format(e))\n",
    "\n",
    "def check_res(res):\n",
    "    if(res.status_code==200): # サーバーとの通信はできてる\n",
    "        # log_meesage(\"{},  {}\".format(res.status_code, res.text))\n",
    "        if(res.text == \"False\"): # ロボットに与えた指示が失敗\n",
    "            return False\n",
    "        else:\n",
    "            return True\n",
    "    else:\n",
    "        log_error(\"{},  {}\".format(res.status_code, res.text))\n",
    "        return False\n",
    "    \n",
    "def loadSAMModel(target=None):\n",
    "    try:\n",
    "        image_path = \"rot_shift\"\n",
    "        model_path = os.path.join(\"rot_shift\", target)\n",
    "        sam_type = \"vit_b\"\n",
    "        log_meesage(\"sam image_save_path: {}\".format(image_path))\n",
    "        res = request_posts(_act=\"loadSAMModel\", _data=[\"image_save_path\", \"model_path\", \"sam_type\"], _value=[image_path,model_path,sam_type])\n",
    "        if(check_res(res)):\n",
    "            log_meesage(\"SAM Model Loaded\")\n",
    "        else:\n",
    "            log_error(\"SAM Model Loading Failed\")\n",
    "\n",
    "    except Exception as e:\n",
    "        log_error(\"Error in load SAM Model: {}\".format(e))"
   ]
  },
  {
   "cell_type": "code",
   "execution_count": null,
   "id": "bd447432",
   "metadata": {},
   "outputs": [],
   "source": []
  },
  {
   "cell_type": "code",
   "execution_count": 2,
   "id": "e7ec7933",
   "metadata": {},
   "outputs": [],
   "source": [
    "def request(image_dir, file_name, repeat):\n",
    "    s_time = time.time()\n",
    "    res = request_posts(_act=\"image_rot_shift\", _data=[\"image_dir\", \"file_name\", \"repeat\"], _value=[image_dir, file_name, repeat])\n",
    "    if(check_res(res)):\n",
    "        output = eval(res.text)\n",
    "        x = output[0]\n",
    "        y = output[1]\n",
    "        rot_angle = output[2]\n",
    "        # log_meesage(f\"[time:{time.time()-s_time}] Image shit x:{x} y:{y}, rot_angle:{rot_angle}\")\n",
    "        return x,y,rot_angle\n",
    "    else:\n",
    "        print(\"ERROR\")\n",
    "        return False, False, False"
   ]
  },
  {
   "cell_type": "code",
   "execution_count": 3,
   "id": "fe72bc43",
   "metadata": {},
   "outputs": [],
   "source": [
    "import cv2\n",
    "import os\n",
    "import matplotlib.pyplot as plt\n",
    "import csv\n",
    "\n",
    "image_dir = \"test_data/20250717/003_high_angle\"\n",
    "\n",
    "file_name = \"20250717_130444314_003_000.png\"\n",
    "\n",
    "repeat = 3\n"
   ]
  },
  {
   "cell_type": "code",
   "execution_count": null,
   "id": "708450da",
   "metadata": {},
   "outputs": [],
   "source": [
    "from tqdm import tqdm\n",
    "def execute(image_dir, repeat=2, failed_list = None):\n",
    "    tmp = \"\"\n",
    "    if failed_list is not None:\n",
    "        tmp = \"analysis\"\n",
    "        image_list = failed_list\n",
    "    else:\n",
    "        image_list = os.listdir(image_dir)\n",
    "    \n",
    "    failed_list = []\n",
    "\n",
    "    for test_image_path in tqdm(image_list):\n",
    "        if tmp == \"analysis\":\n",
    "            file_name = test_image_path[1]\n",
    "        else: \n",
    "            file_name = test_image_path\n",
    "        \n",
    "        # print(f\"image_path: {image_dir}, file_name: {file_name}\")\n",
    "        image = cv2.imread(os.path.join(image_dir, file_name))\n",
    "        image = cv2.cvtColor(image, cv2.COLOR_BGR2RGB)\n",
    "        # plt.figure()\n",
    "        # plt.axis(\"off\")\n",
    "        # plt.imshow(image)\n",
    "        # plt.show()\n",
    "        fig = plt.figure(figsize=(5, 1))\n",
    "        plt.subplot(1,4,1)\n",
    "        plt.axis(\"off\")\n",
    "        plt.title(\"original\", fontsize=8)\n",
    "        plt.imshow(image)\n",
    "     \n",
    "        x,y,rot_angle = request(image_dir, file_name, repeat)\n",
    "\n",
    "        num = 0\n",
    "        for _x, _y, _rot_angle in zip(x,y,rot_angle):\n",
    "            if _x==0 and _y ==0:\n",
    "                # print(\"next\")\n",
    "                break    \n",
    "            # print(\"RESULT\",(_x, _y), _rot_angle)\n",
    "            rot_mat = cv2.getRotationMatrix2D((_x, _y), _rot_angle, 1)\n",
    "            height, width = image.shape[:2]\n",
    "\n",
    "            affine_image = cv2.warpAffine(image, rot_mat, (width, height))\n",
    "\n",
    "            mv_mat = np.float32([[1, 0, -_x+200],[0, 1, -_y+200]])\n",
    "            affine_image = cv2.warpAffine(affine_image, mv_mat, (width, height))\n",
    "\n",
    "            # plt.figure()\n",
    "            # plt.axis(\"off\")\n",
    "            # plt.imshow(affine_image)\n",
    "            # plt.show()\n",
    "            plt.subplot(1,4,num+2)\n",
    "            plt.axis(\"off\")\n",
    "            plt.imshow(affine_image)\n",
    "            plt.title(f\"result_{num+1}\", fontsize=8)\n",
    "            save_path = os.path.join(*[\"result\",tmp,image_dir])\n",
    "            if not os.path.exists(save_path):\n",
    "                os.makedirs(save_path)\n",
    "            plt.savefig(os.path.join(save_path, file_name))\n",
    "            num += 1\n",
    "\n",
    "        failed_flag = False\n",
    "        if(num==0):\n",
    "            save_path = os.path.join(*[\"result\",tmp,image_dir])\n",
    "            if not os.path.exists(save_path):\n",
    "                os.makedirs(save_path)\n",
    "            plt.savefig(os.path.join(save_path, file_name))\n",
    "            failed_flag = True\n",
    "        elif(num==1 and repeat==2):\n",
    "            failed_flag = True\n",
    "        elif(num==2 and repeat==3):\n",
    "            failed_flag = True\n",
    "        plt.close()\n",
    "        if failed_flag:\n",
    "            failed_list.append([num, file_name])\n",
    "    return failed_list"
   ]
  },
  {
   "cell_type": "code",
   "execution_count": 5,
   "id": "402eb87e",
   "metadata": {},
   "outputs": [
    {
     "name": "stdout",
     "output_type": "stream",
     "text": [
      "sam image_save_path: rot_shift\n",
      "SAM Model Loaded\n"
     ]
    },
    {
     "name": "stderr",
     "output_type": "stream",
     "text": [
      "164it [10:37,  3.89s/it]"
     ]
    },
    {
     "name": "stdout",
     "output_type": "stream",
     "text": [
      "[[2, '20250717_112805967_003_000.png'], [0, '20250717_121615254_003_000.png'], [2, '20250717_112250786_003_000.png'], [0, '20250717_112849748_003_000.png'], [2, '20250717_121537155_003_000.png'], [0, '20250717_113941031_003_000.png'], [2, '20250717_113923692_003_000.png'], [2, '20250717_111637515_003_000.png'], [2, '20250717_114510306_003_000.png'], [2, '20250717_121551053_003_000.png'], [2, '20250717_111659285_003_000.png'], [2, '20250717_111631823_003_000.png'], [0, '20250717_112310226_003_000.png'], [0, '20250717_113710582_003_000.png'], [0, '20250717_113644820_003_000.png'], [2, '20250717_112816494_003_000.png'], [2, '20250717_113901075_003_000.png'], [0, '20250717_114549240_003_300.png'], [0, '20250717_121630282_003_000.png'], [2, '20250717_112800834_003_000.png'], [2, '20250717_113920914_003_000.png'], [0, '20250717_113658112_003_000.png'], [2, '20250717_113605642_003_000.png'], [0, '20250717_111720143_003_000.png'], [0, '20250717_111801457_003_000.png'], [0, '20250717_114528514_003_000.png'], [0, '20250717_111756865_003_000.png'], [0, '20250717_121637330_003_000.png'], [0, '20250717_112305986_003_000.png'], [2, '20250717_112826800_003_000.png'], [2, '20250717_121554025_003_000.png'], [0, '20250717_114545746_003_000.png'], [2, '20250717_121556422_003_000.png'], [0, '20250717_113614939_003_000.png'], [0, '20250717_113945496_003_000.png'], [0, '20250717_111754298_003_000.png'], [0, '20250717_121545898_003_000.png'], [0, '20250717_113651480_003_000.png'], [0, '20250717_121610840_003_000.png'], [0, '20250717_114007232_003_000.png'], [0, '20250717_112312848_003_000.png'], [2, '20250717_113625506_003_000.png'], [2, '20250717_114446177_003_000.png'], [0, '20250717_112841063_003_000.png'], [0, '20250717_121613058_003_000.png'], [0, '20250717_113915544_003_000.png'], [0, '20250717_111717553_003_000.png'], [0, '20250717_113642588_003_000.png'], [0, '20250717_114455778_003_000.png'], [2, '20250717_121625749_003_000.png'], [0, '20250717_113956287_003_000.png'], [2, '20250717_113926096_003_000.png'], [2, '20250717_111710445_003_000.png'], [2, '20250717_113603207_003_000.png'], [2, '20250717_112256131_003_000.png'], [0, '20250717_114526346_003_000.png'], [0, '20250717_113700361_003_000.png'], [2, '20250717_112219010_003_000.png'], [2, '20250717_114507993_003_000.png'], [0, '20250717_114500078_003_000.png'], [0, '20250717_114457937_003_000.png'], [0, '20250717_113911056_003_000.png'], [0, '20250717_113943271_003_000.png'], [2, '20250717_114451388_003_000.png'], [2, '20250717_112242847_003_000.png'], [2, '20250717_113906465_003_000.png'], [2, '20250717_113904019_003_000.png'], [2, '20250717_112814008_003_000.png'], [2, '20250717_111634699_003_000.png'], [2, '20250717_121534722_003_000.png'], [0, '20250717_112301000_003_000.png'], [2, '20250717_114505120_003_000.png'], [0, '20250717_112303617_003_000.png'], [2, '20250717_121620294_003_000.png'], [0, '20250717_121543654_003_000.png'], [0, '20250717_112323767_003_000.png'], [0, '20250717_114556913_003_000.png'], [2, '20250717_112224392_003_000.png'], [0, '20250717_114532641_003_000.png'], [0, '20250717_111729546_003_000.png'], [2, '20250717_111704707_003_000.png'], [0, '20250717_113612530_003_000.png'], [2, '20250717_112821646_003_000.png'], [0, '20250717_113913293_003_000.png'], [2, '20250717_112253706_003_000.png'], [0, '20250717_113610133_003_000.png'], [2, '20250717_112811264_003_000.png'], [0, '20250717_112852419_003_300.png'], [0, '20250717_112843287_003_000.png'], [0, '20250717_114543564_003_000.png'], [2, '20250717_121623276_003_000.png'], [2, '20250717_112245253_003_000.png'], [0, '20250717_112845517_003_000.png'], [0, '20250717_111744282_003_300.png'], [0, '20250717_121541441_003_000.png'], [2, '20250717_114449005_003_000.png'], [2, '20250717_113600299_003_000.png'], [0, '20250717_114524184_003_000.png'], [2, '20250717_112239881_003_000.png'], [2, '20250717_112221947_003_000.png'], [2, '20250717_121531823_003_000.png'], [2, '20250717_113620312_003_000.png'], [2, '20250717_111653536_003_000.png'], [0, '20250717_114536978_003_000.png'], [0, '20250717_113649211_003_000.png'], [0, '20250717_113640354_003_000.png'], [0, '20250717_112315241_003_000.png'], [0, '20250717_113950834_003_000.png'], [2, '20250717_112824380_003_000.png'], [0, '20250717_114534813_003_000.png'], [0, '20250717_114001031_003_000.png'], [2, '20250717_113623075_003_000.png'], [0, '20250717_112900304_003_000.png'], [0, '20250717_113953800_003_000.png'], [0, '20250717_114541394_003_000.png'], [0, '20250717_111714869_003_000.png'], [2, '20250717_112803519_003_000.png'], [2, '20250717_111707640_003_000.png'], [0, '20250717_111808746_003_000.png'], [2, '20250717_111656501_003_000.png'], [0, '20250717_113653744_003_000.png'], [0, '20250717_111751672_003_000.png']]\n"
     ]
    },
    {
     "name": "stderr",
     "output_type": "stream",
     "text": [
      "\n"
     ]
    }
   ],
   "source": [
    "image_dir = \"test_data/2025_07_17_triple_black/solution002_solution/003_high_angle\"\n",
    "loadSAMModel(target=\"advance_triple_black\")\n",
    "failed_list = execute(image_dir, repeat=3)\n",
    "print(failed_list)\n",
    "\n",
    "with open('test_data/2025_07_17_triple_black/failed_list.csv', 'w') as f:\n",
    "    writer = csv.writer(f)\n",
    "    writer.writerows(failed_list)\n",
    "\n"
   ]
  },
  {
   "cell_type": "code",
   "execution_count": 8,
   "id": "6ef0b7f2",
   "metadata": {},
   "outputs": [
    {
     "name": "stdout",
     "output_type": "stream",
     "text": [
      "sam image_save_path: rot_shift\n",
      "SAM Model Loaded\n"
     ]
    },
    {
     "name": "stderr",
     "output_type": "stream",
     "text": [
      "100%|██████████| 144/144 [10:03<00:00,  4.19s/it]"
     ]
    },
    {
     "name": "stdout",
     "output_type": "stream",
     "text": [
      "[[0, '20250717_124639824_003_000.png'], [1, '20250717_124825619_003_005.png'], [1, '20250717_125254794_003_005.png'], [1, '20250717_125116860_003_005.png'], [0, '20250717_124539218_003_000.png'], [0, '20250717_125217154_003_005.png'], [1, '20250717_124829862_003_004.png'], [0, '20250717_124410727_003_005.png'], [0, '20250717_124818007_003_000.png'], [0, '20250717_125650899_003_000.png'], [0, '20250717_124644325_003_000.png'], [1, '20250717_125515329_003_000.png'], [0, '20250717_124727721_003_005.png'], [1, '20250717_125000951_003_005.png'], [0, '20250717_124737934_003_005.png'], [0, '20250717_125504299_003_005.png'], [1, '20250717_125434275_003_000.png'], [0, '20250717_125357387_003_005.png'], [0, '20250717_125401085_003_000.png'], [1, '20250717_125120853_003_005.png'], [0, '20250717_124704441_003_000.png'], [0, '20250717_125507816_003_000.png'], [0, '20250717_125640591_003_000.png'], [1, '20250717_125519929_003_000.png'], [0, '20250717_124741535_003_000.png'], [0, '20250717_125110194_003_000.png'], [0, '20250717_125221111_003_000.png'], [0, '20250717_124543813_003_000.png'], [0, '20250717_125106766_003_005.png'], [1, '20250717_124956921_003_005.png'], [0, '20250717_124414399_003_000.png'], [0, '20250717_125407365_003_005.png'], [0, '20250717_125411061_003_000.png'], [0, '20250717_124709099_003_000.png'], [1, '20250717_125430209_003_005.png'], [0, '20250717_124731462_003_000.png'], [0, '20250717_124813558_003_000.png'], [1, '20250717_125258998_003_005.png']]\n"
     ]
    },
    {
     "name": "stderr",
     "output_type": "stream",
     "text": [
      "\n"
     ]
    }
   ],
   "source": [
    "image_dir = \"test_data/2025_07_17_double_white/solution002_solution/003_high_angle\"\n",
    "loadSAMModel(target=\"advance_double_white\")\n",
    "failed_list = execute(image_dir, repeat=2)\n",
    "print(failed_list)\n",
    "with open('test_data/2025_07_17_double_white/failed_list.csv', 'w') as f:\n",
    "    writer = csv.writer(f)\n",
    "    writer.writerows(failed_list)"
   ]
  },
  {
   "cell_type": "code",
   "execution_count": null,
   "id": "908f0f24",
   "metadata": {},
   "outputs": [],
   "source": [
    "image_dir = \"test_data/003_0717_high_angle_triple_black_left\"\n",
    "loadSAMModel(target=\"advance_triple_black\")\n",
    "failed_list = execute(image_dir, repeat=3)\n",
    "print(failed_list)\n",
    "with open('test_data/test_data/003_0717_high_angle_triple_black_left_failed_list.csv', 'w') as f:\n",
    "    writer = csv.writer(f)\n",
    "    writer.writerows(failed_list)"
   ]
  },
  {
   "cell_type": "code",
   "execution_count": null,
   "id": "7bc75856",
   "metadata": {},
   "outputs": [],
   "source": [
    "image_dir = \"test_data/003_0717_high_angle_triple_black_right\"\n",
    "loadSAMModel(target=\"advance_triple_black\")\n",
    "failed_list = execute(image_dir, repeat=3)\n",
    "print(failed_list)\n",
    "with open('test_data/test_data/003_0717_high_angle_triple_black_right_failed_list.csv', 'w') as f:\n",
    "    writer = csv.writer(f)\n",
    "    writer.writerows(failed_list)\n"
   ]
  },
  {
   "cell_type": "code",
   "execution_count": 5,
   "id": "61513966",
   "metadata": {},
   "outputs": [
    {
     "name": "stdout",
     "output_type": "stream",
     "text": [
      "sam image_save_path: rot_shift\n",
      "SAM Model Loaded\n",
      "38\n"
     ]
    },
    {
     "name": "stderr",
     "output_type": "stream",
     "text": [
      "  3%|▎         | 1/38 [00:09<05:53,  9.54s/it]\n"
     ]
    },
    {
     "ename": "KeyboardInterrupt",
     "evalue": "",
     "output_type": "error",
     "traceback": [
      "\u001b[0;31m---------------------------------------------------------------------------\u001b[0m",
      "\u001b[0;31mKeyboardInterrupt\u001b[0m                         Traceback (most recent call last)",
      "Cell \u001b[0;32mIn [5], line 9\u001b[0m\n\u001b[1;32m      7\u001b[0m     failed_list\u001b[38;5;241m.\u001b[39mappend(row)\n\u001b[1;32m      8\u001b[0m \u001b[38;5;28mprint\u001b[39m(\u001b[38;5;28mlen\u001b[39m(failed_list))\n\u001b[0;32m----> 9\u001b[0m \u001b[43mexecute\u001b[49m\u001b[43m(\u001b[49m\u001b[43mimage_dir\u001b[49m\u001b[43m,\u001b[49m\u001b[43m \u001b[49m\u001b[43mrepeat\u001b[49m\u001b[38;5;241;43m=\u001b[39;49m\u001b[38;5;241;43m2\u001b[39;49m\u001b[43m,\u001b[49m\u001b[43m \u001b[49m\u001b[43mfailed_list\u001b[49m\u001b[38;5;241;43m=\u001b[39;49m\u001b[43mfailed_list\u001b[49m\u001b[43m)\u001b[49m\n",
      "Cell \u001b[0;32mIn [4], line 31\u001b[0m, in \u001b[0;36mexecute\u001b[0;34m(image_dir, repeat, failed_list)\u001b[0m\n\u001b[1;32m     28\u001b[0m plt\u001b[38;5;241m.\u001b[39mtitle(\u001b[38;5;124m\"\u001b[39m\u001b[38;5;124moriginal\u001b[39m\u001b[38;5;124m\"\u001b[39m, fontsize\u001b[38;5;241m=\u001b[39m\u001b[38;5;241m8\u001b[39m)\n\u001b[1;32m     29\u001b[0m plt\u001b[38;5;241m.\u001b[39mimshow(image)\n\u001b[0;32m---> 31\u001b[0m x,y,rot_angle \u001b[38;5;241m=\u001b[39m \u001b[43mrequest\u001b[49m\u001b[43m(\u001b[49m\u001b[43mimage_dir\u001b[49m\u001b[43m,\u001b[49m\u001b[43m \u001b[49m\u001b[43mfile_name\u001b[49m\u001b[43m,\u001b[49m\u001b[43m \u001b[49m\u001b[43mrepeat\u001b[49m\u001b[43m)\u001b[49m\n\u001b[1;32m     33\u001b[0m num \u001b[38;5;241m=\u001b[39m \u001b[38;5;241m0\u001b[39m\n\u001b[1;32m     34\u001b[0m \u001b[38;5;28;01mfor\u001b[39;00m _x, _y, _rot_angle \u001b[38;5;129;01min\u001b[39;00m \u001b[38;5;28mzip\u001b[39m(x,y,rot_angle):\n",
      "Cell \u001b[0;32mIn [2], line 3\u001b[0m, in \u001b[0;36mrequest\u001b[0;34m(image_dir, file_name, repeat)\u001b[0m\n\u001b[1;32m      1\u001b[0m \u001b[38;5;28;01mdef\u001b[39;00m \u001b[38;5;21mrequest\u001b[39m(image_dir, file_name, repeat):\n\u001b[1;32m      2\u001b[0m     s_time \u001b[38;5;241m=\u001b[39m time\u001b[38;5;241m.\u001b[39mtime()\n\u001b[0;32m----> 3\u001b[0m     res \u001b[38;5;241m=\u001b[39m \u001b[43mrequest_posts\u001b[49m\u001b[43m(\u001b[49m\u001b[43m_act\u001b[49m\u001b[38;5;241;43m=\u001b[39;49m\u001b[38;5;124;43m\"\u001b[39;49m\u001b[38;5;124;43mimage_rot_shift\u001b[39;49m\u001b[38;5;124;43m\"\u001b[39;49m\u001b[43m,\u001b[49m\u001b[43m \u001b[49m\u001b[43m_data\u001b[49m\u001b[38;5;241;43m=\u001b[39;49m\u001b[43m[\u001b[49m\u001b[38;5;124;43m\"\u001b[39;49m\u001b[38;5;124;43mimage_dir\u001b[39;49m\u001b[38;5;124;43m\"\u001b[39;49m\u001b[43m,\u001b[49m\u001b[43m \u001b[49m\u001b[38;5;124;43m\"\u001b[39;49m\u001b[38;5;124;43mfile_name\u001b[39;49m\u001b[38;5;124;43m\"\u001b[39;49m\u001b[43m,\u001b[49m\u001b[43m \u001b[49m\u001b[38;5;124;43m\"\u001b[39;49m\u001b[38;5;124;43mrepeat\u001b[39;49m\u001b[38;5;124;43m\"\u001b[39;49m\u001b[43m]\u001b[49m\u001b[43m,\u001b[49m\u001b[43m \u001b[49m\u001b[43m_value\u001b[49m\u001b[38;5;241;43m=\u001b[39;49m\u001b[43m[\u001b[49m\u001b[43mimage_dir\u001b[49m\u001b[43m,\u001b[49m\u001b[43m \u001b[49m\u001b[43mfile_name\u001b[49m\u001b[43m,\u001b[49m\u001b[43m \u001b[49m\u001b[43mrepeat\u001b[49m\u001b[43m]\u001b[49m\u001b[43m)\u001b[49m\n\u001b[1;32m      4\u001b[0m     \u001b[38;5;28;01mif\u001b[39;00m(check_res(res)):\n\u001b[1;32m      5\u001b[0m         output \u001b[38;5;241m=\u001b[39m \u001b[38;5;28meval\u001b[39m(res\u001b[38;5;241m.\u001b[39mtext)\n",
      "Cell \u001b[0;32mIn [1], line 65\u001b[0m, in \u001b[0;36mrequest_posts\u001b[0;34m(_act, _data, _value)\u001b[0m\n\u001b[1;32m     63\u001b[0m     prompt \u001b[38;5;241m=\u001b[39m {\u001b[38;5;124m\"\u001b[39m\u001b[38;5;124m\"\u001b[39m:\u001b[38;5;28;01mNone\u001b[39;00m,}\n\u001b[1;32m     64\u001b[0m \u001b[38;5;66;03m# print(act, prompt)\u001b[39;00m\n\u001b[0;32m---> 65\u001b[0m res \u001b[38;5;241m=\u001b[39m \u001b[43mrequests\u001b[49m\u001b[38;5;241;43m.\u001b[39;49m\u001b[43mpost\u001b[49m\u001b[43m(\u001b[49m\u001b[43murl\u001b[49m\u001b[38;5;241;43m=\u001b[39;49m\u001b[43mflask_root\u001b[49m\u001b[38;5;241;43m+\u001b[39;49m\u001b[43mact\u001b[49m\u001b[43m,\u001b[49m\u001b[43m \u001b[49m\u001b[43mdata\u001b[49m\u001b[38;5;241;43m=\u001b[39;49m\u001b[43mprompt\u001b[49m\u001b[43m,\u001b[49m\u001b[43m \u001b[49m\u001b[43mproxies\u001b[49m\u001b[38;5;241;43m=\u001b[39;49m\u001b[43m{\u001b[49m\u001b[38;5;124;43m\"\u001b[39;49m\u001b[38;5;124;43mhttp\u001b[39;49m\u001b[38;5;124;43m\"\u001b[39;49m\u001b[43m:\u001b[49m\u001b[43mPROXY\u001b[49m\u001b[43m}\u001b[49m\u001b[43m)\u001b[49m\n\u001b[1;32m     66\u001b[0m \u001b[38;5;66;03m# log_meesage(\"Action Request: {} & {}, Response: {}\".format(act, prompt, res))\u001b[39;00m\n\u001b[1;32m     67\u001b[0m \u001b[38;5;28;01mreturn\u001b[39;00m res\n",
      "File \u001b[0;32m~/.pyenv/versions/3.8.6/lib/python3.8/site-packages/requests/api.py:115\u001b[0m, in \u001b[0;36mpost\u001b[0;34m(url, data, json, **kwargs)\u001b[0m\n\u001b[1;32m    103\u001b[0m \u001b[38;5;28;01mdef\u001b[39;00m \u001b[38;5;21mpost\u001b[39m(url, data\u001b[38;5;241m=\u001b[39m\u001b[38;5;28;01mNone\u001b[39;00m, json\u001b[38;5;241m=\u001b[39m\u001b[38;5;28;01mNone\u001b[39;00m, \u001b[38;5;241m*\u001b[39m\u001b[38;5;241m*\u001b[39mkwargs):\n\u001b[1;32m    104\u001b[0m \u001b[38;5;250m    \u001b[39m\u001b[38;5;124mr\u001b[39m\u001b[38;5;124;03m\"\"\"Sends a POST request.\u001b[39;00m\n\u001b[1;32m    105\u001b[0m \n\u001b[1;32m    106\u001b[0m \u001b[38;5;124;03m    :param url: URL for the new :class:`Request` object.\u001b[39;00m\n\u001b[0;32m   (...)\u001b[0m\n\u001b[1;32m    112\u001b[0m \u001b[38;5;124;03m    :rtype: requests.Response\u001b[39;00m\n\u001b[1;32m    113\u001b[0m \u001b[38;5;124;03m    \"\"\"\u001b[39;00m\n\u001b[0;32m--> 115\u001b[0m     \u001b[38;5;28;01mreturn\u001b[39;00m \u001b[43mrequest\u001b[49m\u001b[43m(\u001b[49m\u001b[38;5;124;43m\"\u001b[39;49m\u001b[38;5;124;43mpost\u001b[39;49m\u001b[38;5;124;43m\"\u001b[39;49m\u001b[43m,\u001b[49m\u001b[43m \u001b[49m\u001b[43murl\u001b[49m\u001b[43m,\u001b[49m\u001b[43m \u001b[49m\u001b[43mdata\u001b[49m\u001b[38;5;241;43m=\u001b[39;49m\u001b[43mdata\u001b[49m\u001b[43m,\u001b[49m\u001b[43m \u001b[49m\u001b[43mjson\u001b[49m\u001b[38;5;241;43m=\u001b[39;49m\u001b[43mjson\u001b[49m\u001b[43m,\u001b[49m\u001b[43m \u001b[49m\u001b[38;5;241;43m*\u001b[39;49m\u001b[38;5;241;43m*\u001b[39;49m\u001b[43mkwargs\u001b[49m\u001b[43m)\u001b[49m\n",
      "File \u001b[0;32m~/.pyenv/versions/3.8.6/lib/python3.8/site-packages/requests/api.py:59\u001b[0m, in \u001b[0;36mrequest\u001b[0;34m(method, url, **kwargs)\u001b[0m\n\u001b[1;32m     55\u001b[0m \u001b[38;5;66;03m# By using the 'with' statement we are sure the session is closed, thus we\u001b[39;00m\n\u001b[1;32m     56\u001b[0m \u001b[38;5;66;03m# avoid leaving sockets open which can trigger a ResourceWarning in some\u001b[39;00m\n\u001b[1;32m     57\u001b[0m \u001b[38;5;66;03m# cases, and look like a memory leak in others.\u001b[39;00m\n\u001b[1;32m     58\u001b[0m \u001b[38;5;28;01mwith\u001b[39;00m sessions\u001b[38;5;241m.\u001b[39mSession() \u001b[38;5;28;01mas\u001b[39;00m session:\n\u001b[0;32m---> 59\u001b[0m     \u001b[38;5;28;01mreturn\u001b[39;00m \u001b[43msession\u001b[49m\u001b[38;5;241;43m.\u001b[39;49m\u001b[43mrequest\u001b[49m\u001b[43m(\u001b[49m\u001b[43mmethod\u001b[49m\u001b[38;5;241;43m=\u001b[39;49m\u001b[43mmethod\u001b[49m\u001b[43m,\u001b[49m\u001b[43m \u001b[49m\u001b[43murl\u001b[49m\u001b[38;5;241;43m=\u001b[39;49m\u001b[43murl\u001b[49m\u001b[43m,\u001b[49m\u001b[43m \u001b[49m\u001b[38;5;241;43m*\u001b[39;49m\u001b[38;5;241;43m*\u001b[39;49m\u001b[43mkwargs\u001b[49m\u001b[43m)\u001b[49m\n",
      "File \u001b[0;32m~/.pyenv/versions/3.8.6/lib/python3.8/site-packages/requests/sessions.py:589\u001b[0m, in \u001b[0;36mSession.request\u001b[0;34m(self, method, url, params, data, headers, cookies, files, auth, timeout, allow_redirects, proxies, hooks, stream, verify, cert, json)\u001b[0m\n\u001b[1;32m    584\u001b[0m send_kwargs \u001b[38;5;241m=\u001b[39m {\n\u001b[1;32m    585\u001b[0m     \u001b[38;5;124m\"\u001b[39m\u001b[38;5;124mtimeout\u001b[39m\u001b[38;5;124m\"\u001b[39m: timeout,\n\u001b[1;32m    586\u001b[0m     \u001b[38;5;124m\"\u001b[39m\u001b[38;5;124mallow_redirects\u001b[39m\u001b[38;5;124m\"\u001b[39m: allow_redirects,\n\u001b[1;32m    587\u001b[0m }\n\u001b[1;32m    588\u001b[0m send_kwargs\u001b[38;5;241m.\u001b[39mupdate(settings)\n\u001b[0;32m--> 589\u001b[0m resp \u001b[38;5;241m=\u001b[39m \u001b[38;5;28;43mself\u001b[39;49m\u001b[38;5;241;43m.\u001b[39;49m\u001b[43msend\u001b[49m\u001b[43m(\u001b[49m\u001b[43mprep\u001b[49m\u001b[43m,\u001b[49m\u001b[43m \u001b[49m\u001b[38;5;241;43m*\u001b[39;49m\u001b[38;5;241;43m*\u001b[39;49m\u001b[43msend_kwargs\u001b[49m\u001b[43m)\u001b[49m\n\u001b[1;32m    591\u001b[0m \u001b[38;5;28;01mreturn\u001b[39;00m resp\n",
      "File \u001b[0;32m~/.pyenv/versions/3.8.6/lib/python3.8/site-packages/requests/sessions.py:703\u001b[0m, in \u001b[0;36mSession.send\u001b[0;34m(self, request, **kwargs)\u001b[0m\n\u001b[1;32m    700\u001b[0m start \u001b[38;5;241m=\u001b[39m preferred_clock()\n\u001b[1;32m    702\u001b[0m \u001b[38;5;66;03m# Send the request\u001b[39;00m\n\u001b[0;32m--> 703\u001b[0m r \u001b[38;5;241m=\u001b[39m \u001b[43madapter\u001b[49m\u001b[38;5;241;43m.\u001b[39;49m\u001b[43msend\u001b[49m\u001b[43m(\u001b[49m\u001b[43mrequest\u001b[49m\u001b[43m,\u001b[49m\u001b[43m \u001b[49m\u001b[38;5;241;43m*\u001b[39;49m\u001b[38;5;241;43m*\u001b[39;49m\u001b[43mkwargs\u001b[49m\u001b[43m)\u001b[49m\n\u001b[1;32m    705\u001b[0m \u001b[38;5;66;03m# Total elapsed time of the request (approximately)\u001b[39;00m\n\u001b[1;32m    706\u001b[0m elapsed \u001b[38;5;241m=\u001b[39m preferred_clock() \u001b[38;5;241m-\u001b[39m start\n",
      "File \u001b[0;32m~/.pyenv/versions/3.8.6/lib/python3.8/site-packages/requests/adapters.py:486\u001b[0m, in \u001b[0;36mHTTPAdapter.send\u001b[0;34m(self, request, stream, timeout, verify, cert, proxies)\u001b[0m\n\u001b[1;32m    483\u001b[0m     timeout \u001b[38;5;241m=\u001b[39m TimeoutSauce(connect\u001b[38;5;241m=\u001b[39mtimeout, read\u001b[38;5;241m=\u001b[39mtimeout)\n\u001b[1;32m    485\u001b[0m \u001b[38;5;28;01mtry\u001b[39;00m:\n\u001b[0;32m--> 486\u001b[0m     resp \u001b[38;5;241m=\u001b[39m \u001b[43mconn\u001b[49m\u001b[38;5;241;43m.\u001b[39;49m\u001b[43murlopen\u001b[49m\u001b[43m(\u001b[49m\n\u001b[1;32m    487\u001b[0m \u001b[43m        \u001b[49m\u001b[43mmethod\u001b[49m\u001b[38;5;241;43m=\u001b[39;49m\u001b[43mrequest\u001b[49m\u001b[38;5;241;43m.\u001b[39;49m\u001b[43mmethod\u001b[49m\u001b[43m,\u001b[49m\n\u001b[1;32m    488\u001b[0m \u001b[43m        \u001b[49m\u001b[43murl\u001b[49m\u001b[38;5;241;43m=\u001b[39;49m\u001b[43murl\u001b[49m\u001b[43m,\u001b[49m\n\u001b[1;32m    489\u001b[0m \u001b[43m        \u001b[49m\u001b[43mbody\u001b[49m\u001b[38;5;241;43m=\u001b[39;49m\u001b[43mrequest\u001b[49m\u001b[38;5;241;43m.\u001b[39;49m\u001b[43mbody\u001b[49m\u001b[43m,\u001b[49m\n\u001b[1;32m    490\u001b[0m \u001b[43m        \u001b[49m\u001b[43mheaders\u001b[49m\u001b[38;5;241;43m=\u001b[39;49m\u001b[43mrequest\u001b[49m\u001b[38;5;241;43m.\u001b[39;49m\u001b[43mheaders\u001b[49m\u001b[43m,\u001b[49m\n\u001b[1;32m    491\u001b[0m \u001b[43m        \u001b[49m\u001b[43mredirect\u001b[49m\u001b[38;5;241;43m=\u001b[39;49m\u001b[38;5;28;43;01mFalse\u001b[39;49;00m\u001b[43m,\u001b[49m\n\u001b[1;32m    492\u001b[0m \u001b[43m        \u001b[49m\u001b[43massert_same_host\u001b[49m\u001b[38;5;241;43m=\u001b[39;49m\u001b[38;5;28;43;01mFalse\u001b[39;49;00m\u001b[43m,\u001b[49m\n\u001b[1;32m    493\u001b[0m \u001b[43m        \u001b[49m\u001b[43mpreload_content\u001b[49m\u001b[38;5;241;43m=\u001b[39;49m\u001b[38;5;28;43;01mFalse\u001b[39;49;00m\u001b[43m,\u001b[49m\n\u001b[1;32m    494\u001b[0m \u001b[43m        \u001b[49m\u001b[43mdecode_content\u001b[49m\u001b[38;5;241;43m=\u001b[39;49m\u001b[38;5;28;43;01mFalse\u001b[39;49;00m\u001b[43m,\u001b[49m\n\u001b[1;32m    495\u001b[0m \u001b[43m        \u001b[49m\u001b[43mretries\u001b[49m\u001b[38;5;241;43m=\u001b[39;49m\u001b[38;5;28;43mself\u001b[39;49m\u001b[38;5;241;43m.\u001b[39;49m\u001b[43mmax_retries\u001b[49m\u001b[43m,\u001b[49m\n\u001b[1;32m    496\u001b[0m \u001b[43m        \u001b[49m\u001b[43mtimeout\u001b[49m\u001b[38;5;241;43m=\u001b[39;49m\u001b[43mtimeout\u001b[49m\u001b[43m,\u001b[49m\n\u001b[1;32m    497\u001b[0m \u001b[43m        \u001b[49m\u001b[43mchunked\u001b[49m\u001b[38;5;241;43m=\u001b[39;49m\u001b[43mchunked\u001b[49m\u001b[43m,\u001b[49m\n\u001b[1;32m    498\u001b[0m \u001b[43m    \u001b[49m\u001b[43m)\u001b[49m\n\u001b[1;32m    500\u001b[0m \u001b[38;5;28;01mexcept\u001b[39;00m (ProtocolError, \u001b[38;5;167;01mOSError\u001b[39;00m) \u001b[38;5;28;01mas\u001b[39;00m err:\n\u001b[1;32m    501\u001b[0m     \u001b[38;5;28;01mraise\u001b[39;00m \u001b[38;5;167;01mConnectionError\u001b[39;00m(err, request\u001b[38;5;241m=\u001b[39mrequest)\n",
      "File \u001b[0;32m~/.pyenv/versions/3.8.6/lib/python3.8/site-packages/urllib3/connectionpool.py:715\u001b[0m, in \u001b[0;36mHTTPConnectionPool.urlopen\u001b[0;34m(self, method, url, body, headers, retries, redirect, assert_same_host, timeout, pool_timeout, release_conn, chunked, body_pos, **response_kw)\u001b[0m\n\u001b[1;32m    712\u001b[0m     \u001b[38;5;28mself\u001b[39m\u001b[38;5;241m.\u001b[39m_prepare_proxy(conn)\n\u001b[1;32m    714\u001b[0m \u001b[38;5;66;03m# Make the request on the httplib connection object.\u001b[39;00m\n\u001b[0;32m--> 715\u001b[0m httplib_response \u001b[38;5;241m=\u001b[39m \u001b[38;5;28;43mself\u001b[39;49m\u001b[38;5;241;43m.\u001b[39;49m\u001b[43m_make_request\u001b[49m\u001b[43m(\u001b[49m\n\u001b[1;32m    716\u001b[0m \u001b[43m    \u001b[49m\u001b[43mconn\u001b[49m\u001b[43m,\u001b[49m\n\u001b[1;32m    717\u001b[0m \u001b[43m    \u001b[49m\u001b[43mmethod\u001b[49m\u001b[43m,\u001b[49m\n\u001b[1;32m    718\u001b[0m \u001b[43m    \u001b[49m\u001b[43murl\u001b[49m\u001b[43m,\u001b[49m\n\u001b[1;32m    719\u001b[0m \u001b[43m    \u001b[49m\u001b[43mtimeout\u001b[49m\u001b[38;5;241;43m=\u001b[39;49m\u001b[43mtimeout_obj\u001b[49m\u001b[43m,\u001b[49m\n\u001b[1;32m    720\u001b[0m \u001b[43m    \u001b[49m\u001b[43mbody\u001b[49m\u001b[38;5;241;43m=\u001b[39;49m\u001b[43mbody\u001b[49m\u001b[43m,\u001b[49m\n\u001b[1;32m    721\u001b[0m \u001b[43m    \u001b[49m\u001b[43mheaders\u001b[49m\u001b[38;5;241;43m=\u001b[39;49m\u001b[43mheaders\u001b[49m\u001b[43m,\u001b[49m\n\u001b[1;32m    722\u001b[0m \u001b[43m    \u001b[49m\u001b[43mchunked\u001b[49m\u001b[38;5;241;43m=\u001b[39;49m\u001b[43mchunked\u001b[49m\u001b[43m,\u001b[49m\n\u001b[1;32m    723\u001b[0m \u001b[43m\u001b[49m\u001b[43m)\u001b[49m\n\u001b[1;32m    725\u001b[0m \u001b[38;5;66;03m# If we're going to release the connection in ``finally:``, then\u001b[39;00m\n\u001b[1;32m    726\u001b[0m \u001b[38;5;66;03m# the response doesn't need to know about the connection. Otherwise\u001b[39;00m\n\u001b[1;32m    727\u001b[0m \u001b[38;5;66;03m# it will also try to release it and we'll have a double-release\u001b[39;00m\n\u001b[1;32m    728\u001b[0m \u001b[38;5;66;03m# mess.\u001b[39;00m\n\u001b[1;32m    729\u001b[0m response_conn \u001b[38;5;241m=\u001b[39m conn \u001b[38;5;28;01mif\u001b[39;00m \u001b[38;5;129;01mnot\u001b[39;00m release_conn \u001b[38;5;28;01melse\u001b[39;00m \u001b[38;5;28;01mNone\u001b[39;00m\n",
      "File \u001b[0;32m~/.pyenv/versions/3.8.6/lib/python3.8/site-packages/urllib3/connectionpool.py:467\u001b[0m, in \u001b[0;36mHTTPConnectionPool._make_request\u001b[0;34m(self, conn, method, url, timeout, chunked, **httplib_request_kw)\u001b[0m\n\u001b[1;32m    462\u001b[0m             httplib_response \u001b[38;5;241m=\u001b[39m conn\u001b[38;5;241m.\u001b[39mgetresponse()\n\u001b[1;32m    463\u001b[0m         \u001b[38;5;28;01mexcept\u001b[39;00m \u001b[38;5;167;01mBaseException\u001b[39;00m \u001b[38;5;28;01mas\u001b[39;00m e:\n\u001b[1;32m    464\u001b[0m             \u001b[38;5;66;03m# Remove the TypeError from the exception chain in\u001b[39;00m\n\u001b[1;32m    465\u001b[0m             \u001b[38;5;66;03m# Python 3 (including for exceptions like SystemExit).\u001b[39;00m\n\u001b[1;32m    466\u001b[0m             \u001b[38;5;66;03m# Otherwise it looks like a bug in the code.\u001b[39;00m\n\u001b[0;32m--> 467\u001b[0m             \u001b[43msix\u001b[49m\u001b[38;5;241;43m.\u001b[39;49m\u001b[43mraise_from\u001b[49m\u001b[43m(\u001b[49m\u001b[43me\u001b[49m\u001b[43m,\u001b[49m\u001b[43m \u001b[49m\u001b[38;5;28;43;01mNone\u001b[39;49;00m\u001b[43m)\u001b[49m\n\u001b[1;32m    468\u001b[0m \u001b[38;5;28;01mexcept\u001b[39;00m (SocketTimeout, BaseSSLError, SocketError) \u001b[38;5;28;01mas\u001b[39;00m e:\n\u001b[1;32m    469\u001b[0m     \u001b[38;5;28mself\u001b[39m\u001b[38;5;241m.\u001b[39m_raise_timeout(err\u001b[38;5;241m=\u001b[39me, url\u001b[38;5;241m=\u001b[39murl, timeout_value\u001b[38;5;241m=\u001b[39mread_timeout)\n",
      "File \u001b[0;32m<string>:3\u001b[0m, in \u001b[0;36mraise_from\u001b[0;34m(value, from_value)\u001b[0m\n",
      "File \u001b[0;32m~/.pyenv/versions/3.8.6/lib/python3.8/site-packages/urllib3/connectionpool.py:462\u001b[0m, in \u001b[0;36mHTTPConnectionPool._make_request\u001b[0;34m(self, conn, method, url, timeout, chunked, **httplib_request_kw)\u001b[0m\n\u001b[1;32m    459\u001b[0m \u001b[38;5;28;01mexcept\u001b[39;00m \u001b[38;5;167;01mTypeError\u001b[39;00m:\n\u001b[1;32m    460\u001b[0m     \u001b[38;5;66;03m# Python 3\u001b[39;00m\n\u001b[1;32m    461\u001b[0m     \u001b[38;5;28;01mtry\u001b[39;00m:\n\u001b[0;32m--> 462\u001b[0m         httplib_response \u001b[38;5;241m=\u001b[39m \u001b[43mconn\u001b[49m\u001b[38;5;241;43m.\u001b[39;49m\u001b[43mgetresponse\u001b[49m\u001b[43m(\u001b[49m\u001b[43m)\u001b[49m\n\u001b[1;32m    463\u001b[0m     \u001b[38;5;28;01mexcept\u001b[39;00m \u001b[38;5;167;01mBaseException\u001b[39;00m \u001b[38;5;28;01mas\u001b[39;00m e:\n\u001b[1;32m    464\u001b[0m         \u001b[38;5;66;03m# Remove the TypeError from the exception chain in\u001b[39;00m\n\u001b[1;32m    465\u001b[0m         \u001b[38;5;66;03m# Python 3 (including for exceptions like SystemExit).\u001b[39;00m\n\u001b[1;32m    466\u001b[0m         \u001b[38;5;66;03m# Otherwise it looks like a bug in the code.\u001b[39;00m\n\u001b[1;32m    467\u001b[0m         six\u001b[38;5;241m.\u001b[39mraise_from(e, \u001b[38;5;28;01mNone\u001b[39;00m)\n",
      "File \u001b[0;32m~/.pyenv/versions/3.8.6/lib/python3.8/http/client.py:1347\u001b[0m, in \u001b[0;36mHTTPConnection.getresponse\u001b[0;34m(self)\u001b[0m\n\u001b[1;32m   1345\u001b[0m \u001b[38;5;28;01mtry\u001b[39;00m:\n\u001b[1;32m   1346\u001b[0m     \u001b[38;5;28;01mtry\u001b[39;00m:\n\u001b[0;32m-> 1347\u001b[0m         \u001b[43mresponse\u001b[49m\u001b[38;5;241;43m.\u001b[39;49m\u001b[43mbegin\u001b[49m\u001b[43m(\u001b[49m\u001b[43m)\u001b[49m\n\u001b[1;32m   1348\u001b[0m     \u001b[38;5;28;01mexcept\u001b[39;00m \u001b[38;5;167;01mConnectionError\u001b[39;00m:\n\u001b[1;32m   1349\u001b[0m         \u001b[38;5;28mself\u001b[39m\u001b[38;5;241m.\u001b[39mclose()\n",
      "File \u001b[0;32m~/.pyenv/versions/3.8.6/lib/python3.8/http/client.py:307\u001b[0m, in \u001b[0;36mHTTPResponse.begin\u001b[0;34m(self)\u001b[0m\n\u001b[1;32m    305\u001b[0m \u001b[38;5;66;03m# read until we get a non-100 response\u001b[39;00m\n\u001b[1;32m    306\u001b[0m \u001b[38;5;28;01mwhile\u001b[39;00m \u001b[38;5;28;01mTrue\u001b[39;00m:\n\u001b[0;32m--> 307\u001b[0m     version, status, reason \u001b[38;5;241m=\u001b[39m \u001b[38;5;28;43mself\u001b[39;49m\u001b[38;5;241;43m.\u001b[39;49m\u001b[43m_read_status\u001b[49m\u001b[43m(\u001b[49m\u001b[43m)\u001b[49m\n\u001b[1;32m    308\u001b[0m     \u001b[38;5;28;01mif\u001b[39;00m status \u001b[38;5;241m!=\u001b[39m CONTINUE:\n\u001b[1;32m    309\u001b[0m         \u001b[38;5;28;01mbreak\u001b[39;00m\n",
      "File \u001b[0;32m~/.pyenv/versions/3.8.6/lib/python3.8/http/client.py:268\u001b[0m, in \u001b[0;36mHTTPResponse._read_status\u001b[0;34m(self)\u001b[0m\n\u001b[1;32m    267\u001b[0m \u001b[38;5;28;01mdef\u001b[39;00m \u001b[38;5;21m_read_status\u001b[39m(\u001b[38;5;28mself\u001b[39m):\n\u001b[0;32m--> 268\u001b[0m     line \u001b[38;5;241m=\u001b[39m \u001b[38;5;28mstr\u001b[39m(\u001b[38;5;28;43mself\u001b[39;49m\u001b[38;5;241;43m.\u001b[39;49m\u001b[43mfp\u001b[49m\u001b[38;5;241;43m.\u001b[39;49m\u001b[43mreadline\u001b[49m\u001b[43m(\u001b[49m\u001b[43m_MAXLINE\u001b[49m\u001b[43m \u001b[49m\u001b[38;5;241;43m+\u001b[39;49m\u001b[43m \u001b[49m\u001b[38;5;241;43m1\u001b[39;49m\u001b[43m)\u001b[49m, \u001b[38;5;124m\"\u001b[39m\u001b[38;5;124miso-8859-1\u001b[39m\u001b[38;5;124m\"\u001b[39m)\n\u001b[1;32m    269\u001b[0m     \u001b[38;5;28;01mif\u001b[39;00m \u001b[38;5;28mlen\u001b[39m(line) \u001b[38;5;241m>\u001b[39m _MAXLINE:\n\u001b[1;32m    270\u001b[0m         \u001b[38;5;28;01mraise\u001b[39;00m LineTooLong(\u001b[38;5;124m\"\u001b[39m\u001b[38;5;124mstatus line\u001b[39m\u001b[38;5;124m\"\u001b[39m)\n",
      "File \u001b[0;32m~/.pyenv/versions/3.8.6/lib/python3.8/socket.py:669\u001b[0m, in \u001b[0;36mSocketIO.readinto\u001b[0;34m(self, b)\u001b[0m\n\u001b[1;32m    667\u001b[0m \u001b[38;5;28;01mwhile\u001b[39;00m \u001b[38;5;28;01mTrue\u001b[39;00m:\n\u001b[1;32m    668\u001b[0m     \u001b[38;5;28;01mtry\u001b[39;00m:\n\u001b[0;32m--> 669\u001b[0m         \u001b[38;5;28;01mreturn\u001b[39;00m \u001b[38;5;28;43mself\u001b[39;49m\u001b[38;5;241;43m.\u001b[39;49m\u001b[43m_sock\u001b[49m\u001b[38;5;241;43m.\u001b[39;49m\u001b[43mrecv_into\u001b[49m\u001b[43m(\u001b[49m\u001b[43mb\u001b[49m\u001b[43m)\u001b[49m\n\u001b[1;32m    670\u001b[0m     \u001b[38;5;28;01mexcept\u001b[39;00m timeout:\n\u001b[1;32m    671\u001b[0m         \u001b[38;5;28mself\u001b[39m\u001b[38;5;241m.\u001b[39m_timeout_occurred \u001b[38;5;241m=\u001b[39m \u001b[38;5;28;01mTrue\u001b[39;00m\n",
      "\u001b[0;31mKeyboardInterrupt\u001b[0m: "
     ]
    }
   ],
   "source": [
    "image_dir = \"test_data/2025_07_17_double_white/solution002_solution/003_high_angle\"\n",
    "loadSAMModel(target=\"advance_double_white\")\n",
    "csv_dir = 'test_data/2025_07_17_double_white/failed_list.csv'\n",
    "failed_list = []\n",
    "with open(csv_dir) as f:\n",
    "  for row in csv.reader(f):\n",
    "    failed_list.append(row)\n",
    "print(len(failed_list))\n",
    "execute(image_dir, repeat=2, failed_list=failed_list)\n"
   ]
  }
 ],
 "metadata": {
  "kernelspec": {
   "display_name": "3.8.6",
   "language": "python",
   "name": "python3"
  },
  "language_info": {
   "codemirror_mode": {
    "name": "ipython",
    "version": 3
   },
   "file_extension": ".py",
   "mimetype": "text/x-python",
   "name": "python",
   "nbconvert_exporter": "python",
   "pygments_lexer": "ipython3",
   "version": "3.8.6"
  }
 },
 "nbformat": 4,
 "nbformat_minor": 5
}
