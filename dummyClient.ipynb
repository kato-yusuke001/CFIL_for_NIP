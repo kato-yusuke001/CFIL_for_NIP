{
 "cells": [
  {
   "cell_type": "code",
   "execution_count": 1,
   "id": "b745748b",
   "metadata": {},
   "outputs": [
    {
     "name": "stdout",
     "output_type": "stream",
     "text": [
      "flask root:http://10.178.64.66:5000/\n"
     ]
    }
   ],
   "source": [
    "import os\n",
    "import time\n",
    "from logger import setup_logger\n",
    "import requests\n",
    "import numpy as np\n",
    "\n",
    "# ロガー設定\n",
    "logging = setup_logger(\"dummyClient\")\n",
    "\n",
    "def log_meesage(message):\n",
    "    print(message)\n",
    "    logging.info(message)\n",
    "\n",
    "def log_error(message):\n",
    "    print(\"error: {}\".format(message))\n",
    "    logging.error(message)\n",
    "\n",
    "\n",
    "# HOST = \"192.168.0.3\" #津の設定\n",
    "HOST = \"10.178.64.66\" #debug\n",
    "PORT = 5000\n",
    "\n",
    "PROXY = \"\"\n",
    "\n",
    "\n",
    "# Flask設定\n",
    "flask_root = \"http://\" + HOST + \":\" + str(PORT) + \"/\"\n",
    "\n",
    "log_meesage(\"flask root:\" + flask_root)\n",
    "\n",
    "def log_meesage(message):\n",
    "    print(message)\n",
    "    logging.info(message)\n",
    "\n",
    "def log_error(message):\n",
    "    print(\"error: {}\".format(message))\n",
    "    logging.error(message)\n",
    "\n",
    "def request_post(_act=\"\", _data=\"\", _value=None):\n",
    "    act = _act\n",
    "    try:\n",
    "        if(_value is not None):\n",
    "            prompt = {_data:str(_value)}\n",
    "        else:\n",
    "            prompt = {\"\":None,}\n",
    "        # print(act, prompt)\n",
    "        res = requests.post(url=flask_root+act, data=prompt, proxies={\"http\":PROXY})\n",
    "        # log_meesage(\"Action Request: {} & {}, Response: {}\".format(act, prompt, res))\n",
    "        return res\n",
    "    \n",
    "    except Exception as e: #接続エラー時。（サーバー側との接続が出来ないときなど）\n",
    "        log_error(\"Error in request_post: {}\".format(e))\n",
    "\n",
    "def request_posts(_act=\"\", _data=\"\", _value=None):\n",
    "    act = _act\n",
    "    try:\n",
    "        if(_value is not None):\n",
    "            prompt = {}\n",
    "            for d, v in zip(_data, _value):\n",
    "                prompt[d] = str(v)\n",
    "            # prompt = {_data:str(_value)}\n",
    "        else:\n",
    "            prompt = {\"\":None,}\n",
    "        # print(act, prompt)\n",
    "        res = requests.post(url=flask_root+act, data=prompt, proxies={\"http\":PROXY})\n",
    "        # log_meesage(\"Action Request: {} & {}, Response: {}\".format(act, prompt, res))\n",
    "        return res\n",
    "    \n",
    "    except Exception as e: #接続エラー時。（サーバー側との接続が出来ないときなど）\n",
    "        log_error(\"Error in request_post: {}\".format(e))\n",
    "\n",
    "def check_res(res):\n",
    "    if(res.status_code==200): # サーバーとの通信はできてる\n",
    "        # log_meesage(\"{},  {}\".format(res.status_code, res.text))\n",
    "        if(res.text == \"False\"): # ロボットに与えた指示が失敗\n",
    "            return False\n",
    "        else:\n",
    "            return True\n",
    "    else:\n",
    "        log_error(\"{},  {}\".format(res.status_code, res.text))\n",
    "        return False\n",
    "    \n",
    "def loadSAMModel(target=None):\n",
    "    try:\n",
    "        image_path = \"rot_shift\"\n",
    "        model_path = os.path.join(\"rot_shift\", target)\n",
    "        sam_type = \"vit_b\"\n",
    "        log_meesage(\"sam image_save_path: {}\".format(image_path))\n",
    "        res = request_posts(_act=\"loadSAMModel\", _data=[\"image_save_path\", \"model_path\", \"sam_type\"], _value=[image_path,model_path,sam_type])\n",
    "        if(check_res(res)):\n",
    "            log_meesage(\"SAM Model Loaded\")\n",
    "        else:\n",
    "            log_error(\"SAM Model Loading Failed\")\n",
    "\n",
    "    except Exception as e:\n",
    "        log_error(\"Error in load SAM Model: {}\".format(e))"
   ]
  },
  {
   "cell_type": "code",
   "execution_count": null,
   "id": "bd447432",
   "metadata": {},
   "outputs": [],
   "source": []
  },
  {
   "cell_type": "code",
   "execution_count": 2,
   "id": "e7ec7933",
   "metadata": {},
   "outputs": [],
   "source": [
    "def request(image_dir, file_name, repeat):\n",
    "    s_time = time.time()\n",
    "    res = request_posts(_act=\"image_rot_shift\", _data=[\"image_dir\", \"file_name\", \"repeat\"], _value=[image_dir, file_name, repeat])\n",
    "    if(check_res(res)):\n",
    "        output = eval(res.text)\n",
    "        x = output[0]\n",
    "        y = output[1]\n",
    "        rot_angle = output[2]\n",
    "        # log_meesage(f\"[time:{time.time()-s_time}] Image shit x:{x} y:{y}, rot_angle:{rot_angle}\")\n",
    "        return x,y,rot_angle\n",
    "    else:\n",
    "        print(\"ERROR\")\n",
    "        return False, False, False"
   ]
  },
  {
   "cell_type": "code",
   "execution_count": 3,
   "id": "fe72bc43",
   "metadata": {},
   "outputs": [],
   "source": [
    "import cv2\n",
    "import os\n",
    "import matplotlib.pyplot as plt\n",
    "import csv\n",
    "\n",
    "image_dir = \"test_data/20250717/003_high_angle\"\n",
    "\n",
    "file_name = \"20250717_130444314_003_000.png\"\n",
    "\n",
    "repeat = 3\n"
   ]
  },
  {
   "cell_type": "code",
   "execution_count": 4,
   "id": "708450da",
   "metadata": {},
   "outputs": [],
   "source": [
    "from tqdm import tqdm\n",
    "def execute(image_dir, repeat=2, failed_list = None):\n",
    "    tmp = \"\"\n",
    "    if failed_list is not None:\n",
    "        tmp = \"analysis\"\n",
    "        image_list = failed_list\n",
    "    else:\n",
    "        image_list = os.listdir(image_dir)\n",
    "    \n",
    "    failed_list = []\n",
    "\n",
    "    for test_image_path in tqdm(image_list):\n",
    "        if tmp == \"analysis\":\n",
    "            file_name = test_image_path[1]\n",
    "        else: \n",
    "            file_name = test_image_path\n",
    "        \n",
    "        # print(f\"image_path: {image_dir}, file_name: {file_name}\")\n",
    "        image = cv2.imread(os.path.join(image_dir, file_name))\n",
    "        image = cv2.cvtColor(image, cv2.COLOR_BGR2RGB)\n",
    "        # plt.figure()\n",
    "        # plt.axis(\"off\")\n",
    "        # plt.imshow(image)\n",
    "        # plt.show()\n",
    "        fig = plt.figure(figsize=(5, 1))\n",
    "        plt.subplot(1,4,1)\n",
    "        plt.axis(\"off\")\n",
    "        plt.title(\"original\", fontsize=8)\n",
    "        plt.imshow(image)\n",
    "     \n",
    "        x,y,rot_angle = request(image_dir, file_name, repeat)\n",
    "\n",
    "        num = 0\n",
    "        for _x, _y, _rot_angle in zip(x,y,rot_angle):\n",
    "            if _x==0 and _y ==0:\n",
    "                # print(\"next\")\n",
    "                break    \n",
    "            # print(\"RESULT\",(_x, _y), _rot_angle)\n",
    "            rot_mat = cv2.getRotationMatrix2D((_x, _y), _rot_angle, 1)\n",
    "            height, width = image.shape[:2]\n",
    "\n",
    "            affine_image = cv2.warpAffine(image, rot_mat, (width, height))\n",
    "\n",
    "            mv_mat = np.float32([[1, 0, -_x+200],[0, 1, -_y+200]])\n",
    "            affine_image = cv2.warpAffine(affine_image, mv_mat, (width, height))\n",
    "\n",
    "            # plt.figure()\n",
    "            # plt.axis(\"off\")\n",
    "            # plt.imshow(affine_image)\n",
    "            # plt.show()\n",
    "            plt.subplot(1,4,num+2)\n",
    "            plt.axis(\"off\")\n",
    "            plt.imshow(affine_image)\n",
    "            plt.title(f\"result_{num+1}\", fontsize=8)\n",
    "            save_path = os.path.join(*[\"result\",tmp,image_dir])\n",
    "            if not os.path.exists(save_path):\n",
    "                os.makedirs(save_path)\n",
    "            plt.savefig(os.path.join(save_path, file_name))\n",
    "            num += 1\n",
    "\n",
    "        failed_flag = False\n",
    "        if(num==0):\n",
    "            save_path = os.path.join(*[\"result\",tmp,image_dir])\n",
    "            if not os.path.exists(save_path):\n",
    "                os.makedirs(save_path)\n",
    "            plt.savefig(os.path.join(save_path, file_name))\n",
    "            failed_flag = True\n",
    "        elif(num==1 and repeat==2):\n",
    "            failed_flag = True\n",
    "        elif(num==2 and repeat==3):\n",
    "            failed_flag = True\n",
    "        plt.close()\n",
    "        if failed_flag:\n",
    "            failed_list.append([num, file_name])\n",
    "    return failed_list"
   ]
  },
  {
   "cell_type": "code",
   "execution_count": 5,
   "id": "402eb87e",
   "metadata": {},
   "outputs": [
    {
     "name": "stdout",
     "output_type": "stream",
     "text": [
      "sam image_save_path: rot_shift\n",
      "SAM Model Loaded\n"
     ]
    },
    {
     "name": "stderr",
     "output_type": "stream",
     "text": [
      "100%|██████████| 164/164 [12:15<00:00,  4.49s/it]"
     ]
    },
    {
     "name": "stdout",
     "output_type": "stream",
     "text": [
      "[[2, '20250717_112805967_003_000.png'], [0, '20250717_121615254_003_000.png'], [2, '20250717_112250786_003_000.png'], [0, '20250717_112849748_003_000.png'], [2, '20250717_121537155_003_000.png'], [0, '20250717_113941031_003_000.png'], [2, '20250717_113923692_003_000.png'], [2, '20250717_111637515_003_000.png'], [2, '20250717_114510306_003_000.png'], [2, '20250717_121551053_003_000.png'], [2, '20250717_111659285_003_000.png'], [2, '20250717_111631823_003_000.png'], [0, '20250717_112310226_003_000.png'], [0, '20250717_113710582_003_000.png'], [0, '20250717_113644820_003_000.png'], [2, '20250717_112816494_003_000.png'], [2, '20250717_113901075_003_000.png'], [0, '20250717_114549240_003_300.png'], [0, '20250717_121630282_003_000.png'], [2, '20250717_112800834_003_000.png'], [2, '20250717_113920914_003_000.png'], [0, '20250717_113658112_003_000.png'], [2, '20250717_113605642_003_000.png'], [0, '20250717_111720143_003_000.png'], [0, '20250717_111801457_003_000.png'], [0, '20250717_114528514_003_000.png'], [0, '20250717_111756865_003_000.png'], [0, '20250717_121637330_003_000.png'], [0, '20250717_112305986_003_000.png'], [2, '20250717_112826800_003_000.png'], [2, '20250717_121554025_003_000.png'], [0, '20250717_114545746_003_000.png'], [2, '20250717_121556422_003_000.png'], [0, '20250717_113614939_003_000.png'], [0, '20250717_113945496_003_000.png'], [0, '20250717_111754298_003_000.png'], [0, '20250717_121545898_003_000.png'], [2, '20250717_113651480_003_000.png'], [0, '20250717_121610840_003_000.png'], [0, '20250717_114007232_003_000.png'], [0, '20250717_112312848_003_000.png'], [2, '20250717_113625506_003_000.png'], [2, '20250717_114446177_003_000.png'], [0, '20250717_112841063_003_000.png'], [0, '20250717_121613058_003_000.png'], [0, '20250717_113915544_003_000.png'], [0, '20250717_111717553_003_000.png'], [0, '20250717_113642588_003_000.png'], [0, '20250717_114455778_003_000.png'], [2, '20250717_121625749_003_000.png'], [2, '20250717_113956287_003_000.png'], [2, '20250717_113926096_003_000.png'], [2, '20250717_111710445_003_000.png'], [2, '20250717_113603207_003_000.png'], [2, '20250717_112256131_003_000.png'], [0, '20250717_114526346_003_000.png'], [0, '20250717_113700361_003_000.png'], [2, '20250717_112219010_003_000.png'], [2, '20250717_114507993_003_000.png'], [0, '20250717_114500078_003_000.png'], [0, '20250717_114457937_003_000.png'], [0, '20250717_113911056_003_000.png'], [0, '20250717_113943271_003_000.png'], [2, '20250717_114451388_003_000.png'], [2, '20250717_112242847_003_000.png'], [2, '20250717_113906465_003_000.png'], [2, '20250717_113904019_003_000.png'], [2, '20250717_112814008_003_000.png'], [2, '20250717_111634699_003_000.png'], [2, '20250717_121534722_003_000.png'], [0, '20250717_112301000_003_000.png'], [2, '20250717_114505120_003_000.png'], [0, '20250717_112303617_003_000.png'], [2, '20250717_121620294_003_000.png'], [0, '20250717_121543654_003_000.png'], [0, '20250717_112323767_003_000.png'], [0, '20250717_114556913_003_000.png'], [2, '20250717_112224392_003_000.png'], [2, '20250717_114532641_003_000.png'], [0, '20250717_111729546_003_000.png'], [2, '20250717_111704707_003_000.png'], [0, '20250717_113612530_003_000.png'], [2, '20250717_112821646_003_000.png'], [0, '20250717_113913293_003_000.png'], [2, '20250717_112253706_003_000.png'], [0, '20250717_113610133_003_000.png'], [2, '20250717_112811264_003_000.png'], [0, '20250717_112852419_003_300.png'], [0, '20250717_112843287_003_000.png'], [0, '20250717_114543564_003_000.png'], [2, '20250717_121623276_003_000.png'], [2, '20250717_112245253_003_000.png'], [0, '20250717_112845517_003_000.png'], [0, '20250717_111744282_003_300.png'], [0, '20250717_121541441_003_000.png'], [2, '20250717_114449005_003_000.png'], [2, '20250717_113600299_003_000.png'], [0, '20250717_114524184_003_000.png'], [2, '20250717_112239881_003_000.png'], [2, '20250717_112221947_003_000.png'], [2, '20250717_121531823_003_000.png'], [2, '20250717_113620312_003_000.png'], [2, '20250717_111653536_003_000.png'], [2, '20250717_114536978_003_000.png'], [2, '20250717_113649211_003_000.png'], [0, '20250717_113640354_003_000.png'], [0, '20250717_112315241_003_000.png'], [2, '20250717_113950834_003_000.png'], [2, '20250717_112824380_003_000.png'], [2, '20250717_114534813_003_000.png'], [0, '20250717_114001031_003_000.png'], [2, '20250717_113623075_003_000.png'], [0, '20250717_112900304_003_000.png'], [2, '20250717_113953800_003_000.png'], [0, '20250717_114541394_003_000.png'], [0, '20250717_111714869_003_000.png'], [2, '20250717_112803519_003_000.png'], [2, '20250717_111707640_003_000.png'], [0, '20250717_111808746_003_000.png'], [2, '20250717_111656501_003_000.png'], [2, '20250717_113653744_003_000.png'], [0, '20250717_111751672_003_000.png']]\n"
     ]
    },
    {
     "name": "stderr",
     "output_type": "stream",
     "text": [
      "\n"
     ]
    }
   ],
   "source": [
    "image_dir = \"test_data/2025_07_17_triple_black/solution002_solution/003_high_angle\"\n",
    "loadSAMModel(target=\"advance_triple_black\")\n",
    "failed_list = execute(image_dir, repeat=3)\n",
    "print(failed_list)\n",
    "\n",
    "with open('test_data/2025_07_17_triple_black/failed_list.csv', 'w') as f:\n",
    "    writer = csv.writer(f)\n",
    "    writer.writerows(failed_list)\n",
    "\n"
   ]
  },
  {
   "cell_type": "code",
   "execution_count": null,
   "id": "6ef0b7f2",
   "metadata": {},
   "outputs": [
    {
     "name": "stdout",
     "output_type": "stream",
     "text": [
      "sam image_save_path: rot_shift\n",
      "SAM Model Loaded\n"
     ]
    },
    {
     "name": "stderr",
     "output_type": "stream",
     "text": [
      "100%|██████████| 144/144 [12:20<00:00,  5.15s/it]"
     ]
    },
    {
     "name": "stdout",
     "output_type": "stream",
     "text": [
      "0\n",
      "[]\n"
     ]
    },
    {
     "name": "stderr",
     "output_type": "stream",
     "text": [
      "\n"
     ]
    },
    {
     "ename": "",
     "evalue": "",
     "output_type": "error",
     "traceback": [
      "\u001b[1;31mThe Kernel crashed while executing code in the current cell or a previous cell. \n",
      "\u001b[1;31mPlease review the code in the cell(s) to identify a possible cause of the failure. \n",
      "\u001b[1;31mClick <a href='https://aka.ms/vscodeJupyterKernelCrash'>here</a> for more info. \n",
      "\u001b[1;31mView Jupyter <a href='command:jupyter.viewOutput'>log</a> for further details."
     ]
    }
   ],
   "source": [
    "image_dir = \"test_data/2025_07_17_double_white/solution002_solution/003_high_angle\"\n",
    "loadSAMModel(target=\"advance_double_white\")\n",
    "failed_list = execute(image_dir, repeat=2)\n",
    "print(len(failed_list))\n",
    "print(failed_list)\n",
    "with open('test_data/2025_07_17_double_white/failed_list.csv', 'w') as f:\n",
    "    writer = csv.writer(f)\n",
    "    writer.writerows(failed_list)"
   ]
  },
  {
   "cell_type": "code",
   "execution_count": 5,
   "id": "908f0f24",
   "metadata": {},
   "outputs": [
    {
     "name": "stdout",
     "output_type": "stream",
     "text": [
      "sam image_save_path: rot_shift\n",
      "SAM Model Loaded\n"
     ]
    },
    {
     "name": "stderr",
     "output_type": "stream",
     "text": [
      "100%|██████████| 108/108 [14:26<00:00,  8.02s/it]"
     ]
    },
    {
     "name": "stdout",
     "output_type": "stream",
     "text": [
      "0\n",
      "[]\n"
     ]
    },
    {
     "name": "stderr",
     "output_type": "stream",
     "text": [
      "\n"
     ]
    }
   ],
   "source": [
    "image_dir = \"test_data/003_0717_high_angle_triple_black_left\"\n",
    "loadSAMModel(target=\"advance_triple_black\")\n",
    "failed_list = execute(image_dir, repeat=3)\n",
    "print(len(failed_list))\n",
    "print(failed_list)\n",
    "# with open('test_data/test_data/003_0717_high_angle_triple_black_left_failed_list.csv', 'w') as f:\n",
    "#     writer = csv.writer(f)\n",
    "#     writer.writerows(failed_list)"
   ]
  },
  {
   "cell_type": "code",
   "execution_count": 5,
   "id": "7bc75856",
   "metadata": {},
   "outputs": [
    {
     "name": "stdout",
     "output_type": "stream",
     "text": [
      "sam image_save_path: rot_shift\n",
      "SAM Model Loaded\n"
     ]
    },
    {
     "name": "stderr",
     "output_type": "stream",
     "text": [
      "100%|██████████| 108/108 [13:31<00:00,  7.51s/it]"
     ]
    },
    {
     "name": "stdout",
     "output_type": "stream",
     "text": [
      "0\n",
      "[]\n"
     ]
    },
    {
     "name": "stderr",
     "output_type": "stream",
     "text": [
      "\n"
     ]
    }
   ],
   "source": [
    "image_dir = \"test_data/003_0717_high_angle_triple_black_right\"\n",
    "loadSAMModel(target=\"advance_triple_black\")\n",
    "failed_list = execute(image_dir, repeat=3)\n",
    "print(len(failed_list))\n",
    "print(failed_list)\n",
    "# with open('test_data/test_data/003_0717_high_angle_triple_black_right_failed_list.csv', 'w') as f:\n",
    "#     writer = csv.writer(f)\n",
    "#     writer.writerows(failed_list)\n"
   ]
  },
  {
   "cell_type": "code",
   "execution_count": null,
   "id": "61513966",
   "metadata": {},
   "outputs": [
    {
     "name": "stdout",
     "output_type": "stream",
     "text": [
      "sam image_save_path: rot_shift\n",
      "SAM Model Loaded\n",
      "10\n"
     ]
    },
    {
     "name": "stderr",
     "output_type": "stream",
     "text": [
      "100%|██████████| 10/10 [00:43<00:00,  4.39s/it]\n"
     ]
    },
    {
     "data": {
      "text/plain": [
       "[]"
      ]
     },
     "execution_count": 6,
     "metadata": {},
     "output_type": "execute_result"
    }
   ],
   "source": [
    "image_dir = \"test_data/2025_07_17_double_white/solution002_solution/003_high_angle\"\n",
    "loadSAMModel(target=\"advance_double_white\")\n",
    "csv_dir = 'test_data/2025_07_17_double_white/failed_list.csv'\n",
    "failed_list = []\n",
    "with open(csv_dir) as f:\n",
    "  for row in csv.reader(f):\n",
    "    failed_list.append(row)\n",
    "# print(len(failed_list))\n",
    "# execute(image_dir, repeat=2, failed_list=failed_list)\n"
   ]
  }
 ],
 "metadata": {
  "kernelspec": {
   "display_name": "3.8.6",
   "language": "python",
   "name": "python3"
  },
  "language_info": {
   "codemirror_mode": {
    "name": "ipython",
    "version": 3
   },
   "file_extension": ".py",
   "mimetype": "text/x-python",
   "name": "python",
   "nbconvert_exporter": "python",
   "pygments_lexer": "ipython3",
   "version": "3.8.6"
  }
 },
 "nbformat": 4,
 "nbformat_minor": 5
}
