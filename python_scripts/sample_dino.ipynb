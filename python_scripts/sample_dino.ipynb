{
 "cells": [
  {
   "cell_type": "code",
   "execution_count": 3,
   "metadata": {},
   "outputs": [],
   "source": [
    "import sys\n",
    "sys.path.append(\"../\")\n",
    "import matplotlib.pyplot as plt\n",
    "from pathlib import Path\n",
    "import torch \n",
    "from dino import correspondences as corr"
   ]
  },
  {
   "cell_type": "code",
   "execution_count": 5,
   "metadata": {},
   "outputs": [
    {
     "name": "stderr",
     "output_type": "stream",
     "text": [
      "Using cache found in /home/ykato/.cache/torch/hub/facebookresearch_dino_main\n",
      "/home/ykato/.local/lib/python3.8/site-packages/sklearn/cluster/_kmeans.py:1416: FutureWarning: The default value of `n_init` will change from 10 to 'auto' in 1.4. Set the value of `n_init` explicitly to suppress the warning\n",
      "  super()._check_params_vs_input(X, default_n_init=10)\n"
     ]
    }
   ],
   "source": [
    "num_pairs = 10  # Final number of correspondences.\n",
    "load_size = 224 # load size of the input image.\n",
    "layer = 9       # layer to create descriptors from.\n",
    "facet = \"key\"   # facet to create descriptors from. options: ['key' | 'query' | 'value' | 'token']\n",
    "bin = True      # create a binned descriptor if True.\n",
    "thresh = 0.05   # saliency maps threshold to distinguish fg / bg.\n",
    "\n",
    "model_type = 'dino_vits8' \n",
    "# a string specifying which model to load. [dino_vits8 | dino_vits16 | dino_vitb8 |\n",
    "#                            dino_vitb16 | vit_small_patch8_224 | vit_small_patch16_224 | vit_base_patch8_224 |\n",
    "#                            vit_base_patch16_224]\n",
    "\n",
    "# prepare directories\n",
    "root_dir = Path(\"images\")\n",
    "save_dir = Path(\"outputs_dino\")\n",
    "save_dir.mkdir(exist_ok=True, parents=True)\n",
    "\n",
    "original_image_path = root_dir / \"image_almi.jpg\"\n",
    "test_image_path = root_dir / \"image_multi_object_60.jpg\"\n",
    "# original_image_path = root_dir / \"original.jpg\"\n",
    "# test_image_path = root_dir / \"masked_image.jpg\"\n",
    "\n",
    "# compute point correspondences\n",
    "with torch.no_grad():\n",
    "    points1, points2, image1_pil, image2_pil = corr.find_correspondences(image_path1=original_image_path, image_path2=test_image_path,\n",
    "                                                                num_pairs=num_pairs, load_size=load_size, layer=layer,\n",
    "                                                                facet=facet, bin=bin, thresh=thresh)\n",
    "# saving point correspondences\n",
    "file1 = open(save_dir / \"correspondence_A.txt\", \"w\")\n",
    "file2 = open(save_dir / \"correspondence_Bt.txt\", \"w\")\n",
    "for point1, point2 in zip(points1, points2):\n",
    "    file1.write(f'{point1}\\n')\n",
    "    file2.write(f'{point2}\\n')\n",
    "file1.close()\n",
    "file2.close()\n",
    "\n",
    "fig1, fig2 = corr.draw_correspondences(points1, points2, image1_pil, image2_pil)\n",
    "fig1.savefig(save_dir / f'{Path(original_image_path).stem}_corresp.png', bbox_inches='tight', pad_inches=0)\n",
    "fig2.savefig(save_dir / f'{Path(test_image_path).stem}_corresp.png', bbox_inches='tight', pad_inches=0)\n",
    "plt.close('all')"
   ]
  }
 ],
 "metadata": {
  "kernelspec": {
   "display_name": "Python 3",
   "language": "python",
   "name": "python3"
  },
  "language_info": {
   "codemirror_mode": {
    "name": "ipython",
    "version": 3
   },
   "file_extension": ".py",
   "mimetype": "text/x-python",
   "name": "python",
   "nbconvert_exporter": "python",
   "pygments_lexer": "ipython3",
   "version": "3.8.6"
  }
 },
 "nbformat": 4,
 "nbformat_minor": 2
}
